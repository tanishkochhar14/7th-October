{
 "cells": [
  {
   "cell_type": "markdown",
   "id": "94762f1c",
   "metadata": {},
   "source": [
    "Email Dictionaires for Each Divison"
   ]
  },
  {
   "cell_type": "code",
   "execution_count": 10,
   "id": "10e200f3",
   "metadata": {},
   "outputs": [],
   "source": [
    "div_a_scores_dictionary = {\"student_names\": [\"Harsha\", \"Ashwini\", \"Rohit\", \"Mahir\"],\n",
    "                          \"math_scores\": [50,75,65,70],\n",
    "                          \"chemistry_scores\": [80,75,90,65],\n",
    "                          \"information_technology_scores\": [40,45,50,65],\n",
    "                          \"physics_scores\": [86,64,55,45]}"
   ]
  },
  {
   "cell_type": "code",
   "execution_count": 11,
   "id": "d700202a",
   "metadata": {},
   "outputs": [],
   "source": [
    "div_b_scores_dictionary = {\"student_names\": [\"Harshad\", \"Ashwin\", \"Rohini\", \"Melina\"],\n",
    "                          \"math_scores\": [80,65,95,50],\n",
    "                          \"chemistry_scores\": [80,75,90,65],\n",
    "                          \"information_technology_scores\": [60,55,60,65],\n",
    "                          \"physics_scores\": [88,64,53,65]}"
   ]
  },
  {
   "cell_type": "code",
   "execution_count": 12,
   "id": "6540efb8",
   "metadata": {},
   "outputs": [],
   "source": [
    "div_c_scores_dictionary = {\"student_names\": [\"Sumit\", \"Tarak\", \"Param\", \"Satinder\"],\n",
    "                          \"math_scores\": [80,96,67,71],\n",
    "                          \"chemistry_scores\": [89,79,98,67],\n",
    "                          \"information_technology_scores\": [45,35,60,75],\n",
    "                          \"physics_scores\": [89,77,56,75]}"
   ]
  },
  {
   "cell_type": "markdown",
   "id": "dd8c5a7e",
   "metadata": {},
   "source": [
    "Email Dictionaires for Each Divison                      "
   ]
  },
  {
   "cell_type": "code",
   "execution_count": 15,
   "id": "e06b8de5",
   "metadata": {},
   "outputs": [],
   "source": [
    "div_a_emails_dictionary = {\"student_name\": [\"Harsha\", \"Ashwini\", \"Rohit\", \"Mahir\"],\n",
    "                           \"student_email\": [\"Harsha@gmail.com\", \"Ashwini@gmail.com\", \"Rohit@gmail.com\", \"Mahir@gmail.com\"]\n",
    "                          }"
   ]
  },
  {
   "cell_type": "code",
   "execution_count": 17,
   "id": "d5d2a28a",
   "metadata": {},
   "outputs": [],
   "source": [
    "div_b_emails_dictionary = {\"student_name\": [\"Harshad\", \"Ashwin\", \"Rohini\", \"Melina\"],\n",
    "                           \"student_email\": [\"Harshad@gmail.com\", \"Ashwin@gmail.com\", \"Rohini@gmail.com\", \"Melina@gmail.com\"]\n",
    "                                             }                   "
   ]
  },
  {
   "cell_type": "code",
   "execution_count": 18,
   "id": "63c62f93",
   "metadata": {},
   "outputs": [],
   "source": [
    "div_c_emails_dictionary = {\"student_names\": [\"Sumit\", \"Tarak\", \"Param\", \"Satinder\"],\n",
    "                           \"student_email\": [\"Sumit@gmail.com\", \"Tarak@gmail.com\", \"Param@gmail.com\", \"Satinder@gmail.com\"]\n",
    "                          }"
   ]
  },
  {
   "cell_type": "markdown",
   "id": "58130744",
   "metadata": {},
   "source": [
    "Score Processor Function"
   ]
  },
  {
   "cell_type": "code",
   "execution_count": 22,
   "id": "ca4f620d",
   "metadata": {},
   "outputs": [],
   "source": [
    "import pandas as pd"
   ]
  },
  {
   "cell_type": "code",
   "execution_count": 25,
   "id": "dccb3d6c",
   "metadata": {},
   "outputs": [],
   "source": [
    "def score_processor(report_card_dictionary, division_name):\n",
    "    \n",
    "    #Convert the Dictionary into a DataFrame\n",
    "    report_card_df = pd.DataFrame(report_card_dictionary)\n",
    "    \n",
    "    #Add the total score column\n",
    "    report_card_df[\"total_score\"] = report_card_df[\"math_scores\"] + report_card_df[\"chemistry_scores\"] + report_card_df[\"information_technology_scores\"] + report_card_df[\"physics_scores\"]\n",
    "    report_card_df.head(5)\n",
    "   \n",
    "    #Add the Average score column\n",
    "    report_card_df[\"average_score\"] = report_card_df[\"total_score\"]/4\n",
    "    report_card_df.loc[report_card_df[\"average_score\"]>=90, \"character_grade\"] = \"A\"\n",
    "    report_card_df.loc[(report_card_df[\"average_score\"]>=70)&(report_card_df[\"average_score\"]<90), \"character_grade\"] = \"B\"\n",
    "    report_card_df.loc[(report_card_df[\"average_score\"]>=50)&(report_card_df[\"average_score\"]<70), \"character_grade\"] = \"C\"\n",
    "    report_card_df.loc[(report_card_df[\"average_score\"]>=35)&(report_card_df[\"average_score\"]<50), \"character_grade\"] = \"D\"\n",
    "    report_card_df.loc[report_card_df[\"average_score\"]<35,\"character_grade\"] = \"F\"\n",
    "    \n",
    "    \n",
    "    #Add the pass fail column\n",
    "    report_card_df.loc[report_card_df[\"total_score\"]>=140, \"status\"] = \"pass\"\n",
    "    report_card_df.loc[report_card_df[\"total_score\"]<=140, \"status\"] = \"fail\"\n",
    "    \n",
    "    #Add the divison column\n",
    "    report_card_df [\"division\"] = division_name\n",
    "    \n",
    "    #Return the report card dataframe\n",
    "    return report_card_df"
   ]
  },
  {
   "cell_type": "code",
   "execution_count": 30,
   "id": "4445fd32",
   "metadata": {},
   "outputs": [
    {
     "data": {
      "text/html": [
       "<div>\n",
       "<style scoped>\n",
       "    .dataframe tbody tr th:only-of-type {\n",
       "        vertical-align: middle;\n",
       "    }\n",
       "\n",
       "    .dataframe tbody tr th {\n",
       "        vertical-align: top;\n",
       "    }\n",
       "\n",
       "    .dataframe thead th {\n",
       "        text-align: right;\n",
       "    }\n",
       "</style>\n",
       "<table border=\"1\" class=\"dataframe\">\n",
       "  <thead>\n",
       "    <tr style=\"text-align: right;\">\n",
       "      <th></th>\n",
       "      <th>student_names</th>\n",
       "      <th>math_scores</th>\n",
       "      <th>chemistry_scores</th>\n",
       "      <th>information_technology_scores</th>\n",
       "      <th>physics_scores</th>\n",
       "      <th>total_score</th>\n",
       "      <th>average_score</th>\n",
       "      <th>character_grade</th>\n",
       "      <th>status</th>\n",
       "      <th>division</th>\n",
       "    </tr>\n",
       "  </thead>\n",
       "  <tbody>\n",
       "    <tr>\n",
       "      <th>0</th>\n",
       "      <td>Sumit</td>\n",
       "      <td>80</td>\n",
       "      <td>89</td>\n",
       "      <td>45</td>\n",
       "      <td>89</td>\n",
       "      <td>303</td>\n",
       "      <td>75.75</td>\n",
       "      <td>B</td>\n",
       "      <td>pass</td>\n",
       "      <td>C</td>\n",
       "    </tr>\n",
       "    <tr>\n",
       "      <th>1</th>\n",
       "      <td>Tarak</td>\n",
       "      <td>96</td>\n",
       "      <td>79</td>\n",
       "      <td>35</td>\n",
       "      <td>77</td>\n",
       "      <td>287</td>\n",
       "      <td>71.75</td>\n",
       "      <td>B</td>\n",
       "      <td>pass</td>\n",
       "      <td>C</td>\n",
       "    </tr>\n",
       "    <tr>\n",
       "      <th>2</th>\n",
       "      <td>Param</td>\n",
       "      <td>67</td>\n",
       "      <td>98</td>\n",
       "      <td>60</td>\n",
       "      <td>56</td>\n",
       "      <td>281</td>\n",
       "      <td>70.25</td>\n",
       "      <td>B</td>\n",
       "      <td>pass</td>\n",
       "      <td>C</td>\n",
       "    </tr>\n",
       "    <tr>\n",
       "      <th>3</th>\n",
       "      <td>Satinder</td>\n",
       "      <td>71</td>\n",
       "      <td>67</td>\n",
       "      <td>75</td>\n",
       "      <td>75</td>\n",
       "      <td>288</td>\n",
       "      <td>72.00</td>\n",
       "      <td>B</td>\n",
       "      <td>pass</td>\n",
       "      <td>C</td>\n",
       "    </tr>\n",
       "  </tbody>\n",
       "</table>\n",
       "</div>"
      ],
      "text/plain": [
       "  student_names  math_scores  chemistry_scores  information_technology_scores  \\\n",
       "0         Sumit           80                89                             45   \n",
       "1         Tarak           96                79                             35   \n",
       "2         Param           67                98                             60   \n",
       "3      Satinder           71                67                             75   \n",
       "\n",
       "   physics_scores  total_score  average_score character_grade status division  \n",
       "0              89          303          75.75               B   pass        C  \n",
       "1              77          287          71.75               B   pass        C  \n",
       "2              56          281          70.25               B   pass        C  \n",
       "3              75          288          72.00               B   pass        C  "
      ]
     },
     "execution_count": 30,
     "metadata": {},
     "output_type": "execute_result"
    }
   ],
   "source": [
    "score_processor(div_a_scores_dictionary, \"A\")\n",
    "score_processor(div_b_scores_dictionary, \"B\")\n",
    "score_processor(div_c_scores_dictionary, \"C\")"
   ]
  },
  {
   "cell_type": "code",
   "execution_count": 31,
   "id": "9d12d920",
   "metadata": {},
   "outputs": [
    {
     "ename": "NameError",
     "evalue": "name 'report_card_A' is not defined",
     "output_type": "error",
     "traceback": [
      "\u001b[1;31m---------------------------------------------------------------------------\u001b[0m",
      "\u001b[1;31mNameError\u001b[0m                                 Traceback (most recent call last)",
      "\u001b[1;32m<ipython-input-31-5a52bd3206d4>\u001b[0m in \u001b[0;36m<module>\u001b[1;34m\u001b[0m\n\u001b[1;32m----> 1\u001b[1;33m \u001b[0mreport_card_A\u001b[0m\u001b[1;33m\u001b[0m\u001b[1;33m\u001b[0m\u001b[0m\n\u001b[0m",
      "\u001b[1;31mNameError\u001b[0m: name 'report_card_A' is not defined"
     ]
    }
   ],
   "source": [
    "report_card_A"
   ]
  },
  {
   "cell_type": "code",
   "execution_count": null,
   "id": "9f603ce6",
   "metadata": {},
   "outputs": [],
   "source": []
  }
 ],
 "metadata": {
  "kernelspec": {
   "display_name": "Python 3",
   "language": "python",
   "name": "python3"
  },
  "language_info": {
   "codemirror_mode": {
    "name": "ipython",
    "version": 3
   },
   "file_extension": ".py",
   "mimetype": "text/x-python",
   "name": "python",
   "nbconvert_exporter": "python",
   "pygments_lexer": "ipython3",
   "version": "3.8.8"
  }
 },
 "nbformat": 4,
 "nbformat_minor": 5
}
